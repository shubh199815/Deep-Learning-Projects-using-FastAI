{
  "nbformat": 4,
  "nbformat_minor": 0,
  "metadata": {
    "colab": {
      "name": "CIFAR10_keras.ipynb",
      "version": "0.3.2",
      "provenance": [],
      "collapsed_sections": [],
      "include_colab_link": true
    },
    "kernelspec": {
      "name": "python3",
      "display_name": "Python 3"
    },
    "accelerator": "GPU"
  },
  "cells": [
    {
      "cell_type": "markdown",
      "metadata": {
        "id": "view-in-github",
        "colab_type": "text"
      },
      "source": [
        "<a href=\"https://colab.research.google.com/github/shubh199815/FastAI-DL-1/blob/master/CIFAR10_keras.ipynb\" target=\"_parent\"><img src=\"https://colab.research.google.com/assets/colab-badge.svg\" alt=\"Open In Colab\"/></a>"
      ]
    },
    {
      "metadata": {
        "id": "E5HX9Uv3nGRt",
        "colab_type": "code",
        "colab": {}
      },
      "cell_type": "code",
      "source": [
        "import numpy as np\n",
        "import matplotlib.pyplot as plt\n",
        "%matplotlib inline\n",
        "from __future__ import print_function\n",
        "import keras\n",
        "from keras.models import Sequential\n",
        "from keras.utils import to_categorical\n",
        "from keras.layers import Dense, Conv2D, MaxPooling2D, Dropout, Flatten"
      ],
      "execution_count": 0,
      "outputs": []
    },
    {
      "metadata": {
        "id": "QTrN_j9VoOCQ",
        "colab_type": "code",
        "colab": {}
      },
      "cell_type": "code",
      "source": [
        "from keras.datasets import cifar10\n",
        "(train_images, train_labels), (test_images, test_labels) = cifar10.load_data()"
      ],
      "execution_count": 0,
      "outputs": []
    },
    {
      "metadata": {
        "id": "nyou2FnUrRrl",
        "colab_type": "code",
        "colab": {
          "base_uri": "https://localhost:8080/",
          "height": 249
        },
        "outputId": "cb728695-32d1-41c3-de42-3378b3735ff2"
      },
      "cell_type": "code",
      "source": [
        "print('Training Data: ', train_images.shape, train_labels.shape)\n",
        "print('Testing Data: ', test_images.shape, test_labels.shape)\n",
        "\n",
        "classes = np.unique(train_labels)\n",
        "nclasses = len(classes)\n",
        "print('Total no of outputs: ', nclasses)\n",
        "print('Classes: ', classes)\n",
        "\n",
        "plt.figure(figsize=[4,2])\n",
        "\n",
        "plt.subplot(121)\n",
        "plt.imshow(train_images[0,:,:], cmap='gray')\n",
        "plt.title(\"Ground Truth: {}\".format(train_labels[0]))\n",
        "\n",
        "plt.subplot(122)\n",
        "plt.imshow(test_images[0,:,:], cmap='gray')\n",
        "plt.title(\"Ground Truth: {}\".format(test_labels[0]))"
      ],
      "execution_count": 9,
      "outputs": [
        {
          "output_type": "stream",
          "text": [
            "Training Data:  (50000, 32, 32, 3) (50000, 1)\n",
            "Testing Data:  (10000, 32, 32, 3) (10000, 1)\n",
            "Total no of outputs:  10\n",
            "Classes:  [0 1 2 3 4 5 6 7 8 9]\n"
          ],
          "name": "stdout"
        },
        {
          "output_type": "execute_result",
          "data": {
            "text/plain": [
              "Text(0.5, 1.0, 'Ground Truth: [3]')"
            ]
          },
          "metadata": {
            "tags": []
          },
          "execution_count": 9
        },
        {
          "output_type": "display_data",
          "data": {
            "image/png": "[encoded data removed]",
            "text/plain": [
              "<Figure size 288x144 with 2 Axes>"
            ]
          },
          "metadata": {
            "tags": []
          }
        }
      ]
    },
    {
      "metadata": {
        "id": "0U4kEr3mugR6",
        "colab_type": "code",
        "colab": {
          "base_uri": "https://localhost:8080/",
          "height": 68
        },
        "outputId": "07661406-aab5-411c-ae43-a6d963757d01"
      },
      "cell_type": "code",
      "source": [
        "nRows, nCols, nDims = train_images.shape[1:]\n",
        "train_data = train_images.reshape(train_images.shape[0], nRows, nCols, nDims)\n",
        "test_data = test_images.reshape(test_images.shape[0], nRows, nCols, nDims)\n",
        "train_data = train_data.astype('float32')\n",
        "test_data = test_data.astype('float32')\n",
        "\n",
        "print(train_data.shape)\n",
        "print(test_data.shape)\n",
        "print(train_images.shape[1:])"
      ],
      "execution_count": 11,
      "outputs": [
        {
          "output_type": "stream",
          "text": [
            "(50000, 32, 32, 3)\n",
            "(10000, 32, 32, 3)\n",
            "(32, 32, 3)\n"
          ],
          "name": "stdout"
        }
      ]
    },
    {
      "metadata": {
        "id": "HRKkOt1Y0hUk",
        "colab_type": "code",
        "colab": {}
      },
      "cell_type": "code",
      "source": [
        "train_data /= 255\n",
        "test_data /= 255\n",
        "train_labels_one_hot = to_categorical(train_labels)\n",
        "test_labels_one_hot = to_categorical(test_labels)"
      ],
      "execution_count": 0,
      "outputs": []
    },
    {
      "metadata": {
        "id": "4SIFzrN01x2o",
        "colab_type": "code",
        "colab": {
          "base_uri": "https://localhost:8080/",
          "height": 51
        },
        "outputId": "bf7de18d-1634-41b3-9a6d-3127cc64414a"
      },
      "cell_type": "code",
      "source": [
        "print('Original label for 0: ', train_labels[0])\n",
        "print('One-hot encoded label for 0: ', train_labels_one_hot[0])\n",
        "input_shape = (nRows, nCols, nDims)"
      ],
      "execution_count": 15,
      "outputs": [
        {
          "output_type": "stream",
          "text": [
            "Original label for 0:  [6]\n",
            "One-hot encoded label for 0:  [0. 0. 0. 0. 0. 0. 1. 0. 0. 0.]\n"
          ],
          "name": "stdout"
        }
      ]
    },
    {
      "metadata": {
        "id": "sd8jn-jz2I6J",
        "colab_type": "code",
        "colab": {}
      },
      "cell_type": "code",
      "source": [
        "def createModel():\n",
        "  model = Sequential()\n",
        "  \n",
        "  #the first 2 layers with 32 filters of size 3x3\n",
        "  model.add(Conv2D(32,(3,3), padding='same', activation='relu', input_shape=input_shape))\n",
        "  model.add(Conv2D(32,(3,3), activation='relu'))\n",
        "  model.add(MaxPooling2D(pool_size=(2,2)))\n",
        "  model.add(Dropout(0.25))\n",
        "  \n",
        "  model.add(Conv2D(64,(3,3), padding='same', activation='relu'))\n",
        "  model.add(Conv2D(64,(3,3), activation='relu'))\n",
        "  model.add(MaxPooling2D(pool_size=(2,2)))\n",
        "  model.add(Dropout(0.25))\n",
        "  \n",
        "  model.add(Conv2D(64,(3,3), padding='same', activation='relu'))\n",
        "  model.add(Conv2D(64,(3,3), activation='relu'))\n",
        "  model.add(MaxPooling2D(pool_size=(2,2)))\n",
        "  model.add(Dropout(0.25))\n",
        "  \n",
        "  model.add(Flatten())\n",
        "  model.add(Dense(512, activation='relu'))\n",
        "  model.add(Dropout(512))\n",
        "  model.add(Dense(nclasses, activation='softmax'))\n",
        "  \n",
        "  return model"
      ],
      "execution_count": 0,
      "outputs": []
    },
    {
      "metadata": {
        "id": "wkba2eRl7HHP",
        "colab_type": "code",
        "colab": {}
      },
      "cell_type": "code",
      "source": [
        "learn= createModel()\n",
        "bs = 256\n",
        "epochs = 50\n",
        "learn.compile(optimizer='rmsprop', loss='categorical_crossentropy', metrics=['accuracy'])"
      ],
      "execution_count": 0,
      "outputs": []
    },
    {
      "metadata": {
        "id": "FuwBUo0u8GXX",
        "colab_type": "code",
        "colab": {
          "base_uri": "https://localhost:8080/",
          "height": 163
        },
        "outputId": "ca7128f1-eebb-4723-8280-0012cc9db0aa"
      },
      "cell_type": "code",
      "source": [
        "model.summary()"
      ],
      "execution_count": 20,
      "outputs": [
        {
          "output_type": "error",
          "ename": "NameError",
          "evalue": "ignored",
          "traceback": [
            "\u001b[0;31m---------------------------------------------------------------------------\u001b[0m",
            "\u001b[0;31mNameError\u001b[0m                                 Traceback (most recent call last)",
            "\u001b[0;32m<ipython-input-20-5f15418b3570>\u001b[0m in \u001b[0;36m<module>\u001b[0;34m()\u001b[0m\n\u001b[0;32m----> 1\u001b[0;31m \u001b[0mmodel\u001b[0m\u001b[0;34m.\u001b[0m\u001b[0msummary\u001b[0m\u001b[0;34m(\u001b[0m\u001b[0;34m)\u001b[0m\u001b[0;34m\u001b[0m\u001b[0;34m\u001b[0m\u001b[0m\n\u001b[0m",
            "\u001b[0;31mNameError\u001b[0m: name 'model' is not defined"
          ]
        }
      ]
    },
    {
      "metadata": {
        "id": "NvbE8UTN8T0X",
        "colab_type": "code",
        "colab": {
          "base_uri": "https://localhost:8080/",
          "height": 680
        },
        "outputId": "ea740ff7-b865-49b9-8a90-20321a989b2d"
      },
      "cell_type": "code",
      "source": [
        "learn.summary()"
      ],
      "execution_count": 21,
      "outputs": [
        {
          "output_type": "stream",
          "text": [
            "_________________________________________________________________\n",
            "Layer (type)                 Output Shape              Param #   \n",
            "=================================================================\n",
            "conv2d_7 (Conv2D)            (None, 32, 32, 32)        896       \n",
            "_________________________________________________________________\n",
            "conv2d_8 (Conv2D)            (None, 30, 30, 32)        9248      \n",
            "_________________________________________________________________\n",
            "max_pooling2d_4 (MaxPooling2 (None, 15, 15, 32)        0         \n",
            "_________________________________________________________________\n",
            "dropout_4 (Dropout)          (None, 15, 15, 32)        0         \n",
            "_________________________________________________________________\n",
            "conv2d_9 (Conv2D)            (None, 15, 15, 64)        18496     \n",
            "_________________________________________________________________\n",
            "conv2d_10 (Conv2D)           (None, 13, 13, 64)        36928     \n",
            "_________________________________________________________________\n",
            "max_pooling2d_5 (MaxPooling2 (None, 6, 6, 64)          0         \n",
            "_________________________________________________________________\n",
            "dropout_5 (Dropout)          (None, 6, 6, 64)          0         \n",
            "_________________________________________________________________\n",
            "conv2d_11 (Conv2D)           (None, 6, 6, 64)          36928     \n",
            "_________________________________________________________________\n",
            "conv2d_12 (Conv2D)           (None, 4, 4, 64)          36928     \n",
            "_________________________________________________________________\n",
            "max_pooling2d_6 (MaxPooling2 (None, 2, 2, 64)          0         \n",
            "_________________________________________________________________\n",
            "dropout_6 (Dropout)          (None, 2, 2, 64)          0         \n",
            "_________________________________________________________________\n",
            "flatten_2 (Flatten)          (None, 256)               0         \n",
            "_________________________________________________________________\n",
            "dense_2 (Dense)              (None, 512)               131584    \n",
            "_________________________________________________________________\n",
            "dropout_7 (Dropout)          (None, 512)               0         \n",
            "_________________________________________________________________\n",
            "dense_3 (Dense)              (None, 10)                5130      \n",
            "=================================================================\n",
            "Total params: 276,138\n",
            "Trainable params: 276,138\n",
            "Non-trainable params: 0\n",
            "_________________________________________________________________\n"
          ],
          "name": "stdout"
        }
      ]
    },
    {
      "metadata": {
        "id": "GTTKnlOR8WvB",
        "colab_type": "code",
        "colab": {
          "base_uri": "https://localhost:8080/",
          "height": 1839
        },
        "outputId": "aff8e079-7345-4671-cb93-75f496dc367a"
      },
      "cell_type": "code",
      "source": [
        "history = learn.fit(train_data, train_labels_one_hot, batch_size=bs, epochs=epochs, verbose=1, validation_data=(test_data, test_labels_one_hot))\n",
        "learn.evaluate(test_data, test_labels_one_hot)"
      ],
      "execution_count": 22,
      "outputs": [
        {
          "output_type": "stream",
          "text": [
            "WARNING:tensorflow:From /usr/local/lib/python3.6/dist-packages/tensorflow/python/ops/math_ops.py:3066: to_int32 (from tensorflow.python.ops.math_ops) is deprecated and will be removed in a future version.\n",
            "Instructions for updating:\n",
            "Use tf.cast instead.\n",
            "Train on 50000 samples, validate on 10000 samples\n",
            "Epoch 1/50\n",
            "50000/50000 [==============================] - 15s 305us/step - loss: 2.0533 - acc: 0.2490 - val_loss: 2.0044 - val_acc: 0.2935\n",
            "Epoch 2/50\n",
            "50000/50000 [==============================] - 10s 204us/step - loss: 1.6771 - acc: 0.3938 - val_loss: 1.4817 - val_acc: 0.4644\n",
            "Epoch 3/50\n",
            "50000/50000 [==============================] - 10s 203us/step - loss: 1.4882 - acc: 0.4604 - val_loss: 1.4772 - val_acc: 0.4842\n",
            "Epoch 4/50\n",
            "50000/50000 [==============================] - 10s 209us/step - loss: 1.3490 - acc: 0.5182 - val_loss: 1.2980 - val_acc: 0.5307\n",
            "Epoch 5/50\n",
            "50000/50000 [==============================] - 10s 207us/step - loss: 1.2518 - acc: 0.5513 - val_loss: 1.1767 - val_acc: 0.5771\n",
            "Epoch 6/50\n",
            "50000/50000 [==============================] - 10s 207us/step - loss: 1.1600 - acc: 0.5886 - val_loss: 1.1198 - val_acc: 0.6110\n",
            "Epoch 7/50\n",
            "50000/50000 [==============================] - 10s 207us/step - loss: 1.0833 - acc: 0.6178 - val_loss: 1.1765 - val_acc: 0.5910\n",
            "Epoch 8/50\n",
            "50000/50000 [==============================] - 10s 204us/step - loss: 1.0236 - acc: 0.6389 - val_loss: 0.9835 - val_acc: 0.6532\n",
            "Epoch 9/50\n",
            "50000/50000 [==============================] - 10s 205us/step - loss: 0.9748 - acc: 0.6554 - val_loss: 0.9670 - val_acc: 0.6595\n",
            "Epoch 10/50\n",
            "50000/50000 [==============================] - 10s 205us/step - loss: 0.9206 - acc: 0.6759 - val_loss: 0.9740 - val_acc: 0.6623\n",
            "Epoch 11/50\n",
            "50000/50000 [==============================] - 10s 207us/step - loss: 0.8744 - acc: 0.6922 - val_loss: 0.9407 - val_acc: 0.6774\n",
            "Epoch 12/50\n",
            "50000/50000 [==============================] - 10s 207us/step - loss: 0.8363 - acc: 0.7046 - val_loss: 0.8355 - val_acc: 0.7113\n",
            "Epoch 13/50\n",
            "50000/50000 [==============================] - 10s 208us/step - loss: 0.7953 - acc: 0.7209 - val_loss: 0.9966 - val_acc: 0.6644\n",
            "Epoch 14/50\n",
            "50000/50000 [==============================] - 10s 208us/step - loss: 0.7681 - acc: 0.7287 - val_loss: 0.7192 - val_acc: 0.7499\n",
            "Epoch 15/50\n",
            "50000/50000 [==============================] - 10s 204us/step - loss: 0.7368 - acc: 0.7413 - val_loss: 0.7577 - val_acc: 0.7308\n",
            "Epoch 16/50\n",
            "50000/50000 [==============================] - 10s 205us/step - loss: 0.7091 - acc: 0.7513 - val_loss: 0.8066 - val_acc: 0.7249\n",
            "Epoch 17/50\n",
            "50000/50000 [==============================] - 10s 209us/step - loss: 0.6936 - acc: 0.7547 - val_loss: 0.7478 - val_acc: 0.7409\n",
            "Epoch 18/50\n",
            "50000/50000 [==============================] - 10s 209us/step - loss: 0.6644 - acc: 0.7657 - val_loss: 0.7615 - val_acc: 0.7357\n",
            "Epoch 19/50\n",
            "50000/50000 [==============================] - 10s 209us/step - loss: 0.6427 - acc: 0.7753 - val_loss: 0.6952 - val_acc: 0.7668\n",
            "Epoch 20/50\n",
            "50000/50000 [==============================] - 10s 210us/step - loss: 0.6298 - acc: 0.7819 - val_loss: 0.7199 - val_acc: 0.7500\n",
            "Epoch 21/50\n",
            "50000/50000 [==============================] - 10s 206us/step - loss: 0.6141 - acc: 0.7869 - val_loss: 0.7291 - val_acc: 0.7513\n",
            "Epoch 22/50\n",
            "50000/50000 [==============================] - 10s 203us/step - loss: 0.5859 - acc: 0.7951 - val_loss: 0.6874 - val_acc: 0.7646\n",
            "Epoch 23/50\n",
            "50000/50000 [==============================] - 10s 207us/step - loss: 0.5758 - acc: 0.7979 - val_loss: 0.9927 - val_acc: 0.6896\n",
            "Epoch 24/50\n",
            "50000/50000 [==============================] - 10s 209us/step - loss: 0.5576 - acc: 0.8054 - val_loss: 0.6575 - val_acc: 0.7768\n",
            "Epoch 25/50\n",
            "50000/50000 [==============================] - 10s 209us/step - loss: 0.5468 - acc: 0.8079 - val_loss: 0.7048 - val_acc: 0.7593\n",
            "Epoch 26/50\n",
            "50000/50000 [==============================] - 10s 206us/step - loss: 0.5364 - acc: 0.8112 - val_loss: 0.6329 - val_acc: 0.7864\n",
            "Epoch 27/50\n",
            "50000/50000 [==============================] - 10s 204us/step - loss: 0.5254 - acc: 0.8152 - val_loss: 0.6978 - val_acc: 0.7591\n",
            "Epoch 28/50\n",
            "50000/50000 [==============================] - 10s 208us/step - loss: 0.5128 - acc: 0.8185 - val_loss: 0.6925 - val_acc: 0.7624\n",
            "Epoch 29/50\n",
            "50000/50000 [==============================] - 10s 206us/step - loss: 0.5068 - acc: 0.8235 - val_loss: 0.7536 - val_acc: 0.7515\n",
            "Epoch 30/50\n",
            "50000/50000 [==============================] - 10s 205us/step - loss: 0.4952 - acc: 0.8250 - val_loss: 0.6502 - val_acc: 0.7802\n",
            "Epoch 31/50\n",
            "50000/50000 [==============================] - 10s 208us/step - loss: 0.4850 - acc: 0.8302 - val_loss: 0.8518 - val_acc: 0.7320\n",
            "Epoch 32/50\n",
            "50000/50000 [==============================] - 10s 208us/step - loss: 0.4760 - acc: 0.8332 - val_loss: 0.6365 - val_acc: 0.7860\n",
            "Epoch 33/50\n",
            "50000/50000 [==============================] - 10s 204us/step - loss: 0.4739 - acc: 0.8353 - val_loss: 0.5842 - val_acc: 0.8090\n",
            "Epoch 34/50\n",
            "50000/50000 [==============================] - 10s 205us/step - loss: 0.4644 - acc: 0.8372 - val_loss: 0.6360 - val_acc: 0.7877\n",
            "Epoch 35/50\n",
            "50000/50000 [==============================] - 10s 203us/step - loss: 0.4540 - acc: 0.8397 - val_loss: 0.6440 - val_acc: 0.7866\n",
            "Epoch 36/50\n",
            "50000/50000 [==============================] - 10s 206us/step - loss: 0.4404 - acc: 0.8445 - val_loss: 0.6645 - val_acc: 0.7802\n",
            "Epoch 37/50\n",
            "50000/50000 [==============================] - 10s 205us/step - loss: 0.4397 - acc: 0.8460 - val_loss: 0.6493 - val_acc: 0.7896\n",
            "Epoch 38/50\n",
            "50000/50000 [==============================] - 10s 206us/step - loss: 0.4324 - acc: 0.8471 - val_loss: 0.8480 - val_acc: 0.7239\n",
            "Epoch 39/50\n",
            "50000/50000 [==============================] - 10s 198us/step - loss: 0.4291 - acc: 0.8490 - val_loss: 0.6307 - val_acc: 0.7962\n",
            "Epoch 40/50\n",
            "50000/50000 [==============================] - 10s 205us/step - loss: 0.4250 - acc: 0.8485 - val_loss: 0.6273 - val_acc: 0.7915\n",
            "Epoch 41/50\n",
            "50000/50000 [==============================] - 10s 202us/step - loss: 0.4170 - acc: 0.8538 - val_loss: 0.6886 - val_acc: 0.7771\n",
            "Epoch 42/50\n",
            "50000/50000 [==============================] - 10s 205us/step - loss: 0.4114 - acc: 0.8532 - val_loss: 0.6965 - val_acc: 0.7740\n",
            "Epoch 43/50\n",
            "50000/50000 [==============================] - 10s 205us/step - loss: 0.4093 - acc: 0.8543 - val_loss: 0.6327 - val_acc: 0.7892\n",
            "Epoch 44/50\n",
            "50000/50000 [==============================] - 10s 204us/step - loss: 0.4020 - acc: 0.8584 - val_loss: 0.6043 - val_acc: 0.8021\n",
            "Epoch 45/50\n",
            "50000/50000 [==============================] - 10s 205us/step - loss: 0.4006 - acc: 0.8575 - val_loss: 0.6012 - val_acc: 0.8050\n",
            "Epoch 46/50\n",
            "50000/50000 [==============================] - 10s 205us/step - loss: 0.3940 - acc: 0.8614 - val_loss: 0.6352 - val_acc: 0.7999\n",
            "Epoch 47/50\n",
            "50000/50000 [==============================] - 10s 205us/step - loss: 0.3939 - acc: 0.8615 - val_loss: 0.5794 - val_acc: 0.8081\n",
            "Epoch 48/50\n",
            "50000/50000 [==============================] - 10s 208us/step - loss: 0.3887 - acc: 0.8625 - val_loss: 0.6115 - val_acc: 0.8037\n",
            "Epoch 49/50\n",
            "50000/50000 [==============================] - 10s 207us/step - loss: 0.3842 - acc: 0.8649 - val_loss: 0.5767 - val_acc: 0.8122\n",
            "Epoch 50/50\n",
            "50000/50000 [==============================] - 10s 204us/step - loss: 0.3779 - acc: 0.8651 - val_loss: 0.6886 - val_acc: 0.7821\n",
            "10000/10000 [==============================] - 1s 136us/step\n"
          ],
          "name": "stdout"
        },
        {
          "output_type": "execute_result",
          "data": {
            "text/plain": [
              "[0.6885915952682495, 0.7821]"
            ]
          },
          "metadata": {
            "tags": []
          },
          "execution_count": 22
        }
      ]
    },
    {
      "metadata": {
        "id": "QhuhR7rs9cMY",
        "colab_type": "code",
        "colab": {}
      },
      "cell_type": "code",
      "source": [
        ""
      ],
      "execution_count": 0,
      "outputs": []
    }
  ]
}